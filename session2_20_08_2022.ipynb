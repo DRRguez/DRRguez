{
  "nbformat": 4,
  "nbformat_minor": 0,
  "metadata": {
    "colab": {
      "name": "session2_20_08_2022.ipynb",
      "provenance": [],
      "collapsed_sections": [],
      "toc_visible": true,
      "authorship_tag": "ABX9TyOuWkqqvWzz57MSkUvMVeuH",
      "include_colab_link": true
    },
    "kernelspec": {
      "name": "python3",
      "display_name": "Python 3"
    },
    "language_info": {
      "name": "python"
    }
  },
  "cells": [
    {
      "cell_type": "markdown",
      "metadata": {
        "id": "view-in-github",
        "colab_type": "text"
      },
      "source": [
        "<a href=\"https://colab.research.google.com/github/DRRguez/DRRguez/blob/main/session2_20_08_2022.ipynb\" target=\"_parent\"><img src=\"https://colab.research.google.com/assets/colab-badge.svg\" alt=\"Open In Colab\"/></a>"
      ]
    },
    {
      "cell_type": "markdown",
      "source": [
        "# Heading1\n",
        "\n",
        "## Heading2\n",
        "\n",
        "##### Heading5\n",
        "\n",
        "Este es un texto en negritas **bold**, este texto está \n",
        "en cursivas *italic*.\n",
        "\n",
        "Este es un salto de linea.\n",
        "\n",
        "Podemos agregar listas\n",
        "* elemento 1\n",
        "* elemento 2\n",
        "\n",
        "También podemos escribir formulas\n",
        "\n",
        "$$\n",
        "g(x)=\\int ^m _n x^2 dx\n",
        "$$\n"
      ],
      "metadata": {
        "id": "p-p4aRooqDKg"
      }
    },
    {
      "cell_type": "code",
      "source": [
        "print('Hello World!')"
      ],
      "metadata": {
        "colab": {
          "base_uri": "https://localhost:8080/"
        },
        "id": "mhQsDRyHsveO",
        "outputId": "d411b906-74a4-453b-899d-79a95221c3fd"
      },
      "execution_count": 1,
      "outputs": [
        {
          "output_type": "stream",
          "name": "stdout",
          "text": [
            "Hello World!\n"
          ]
        }
      ]
    },
    {
      "cell_type": "code",
      "source": [
        "!cat /proc/meminfo"
      ],
      "metadata": {
        "id": "lLIForPkuQTE"
      },
      "execution_count": null,
      "outputs": []
    },
    {
      "cell_type": "code",
      "source": [
        "a=25\n",
        "b=67\n",
        "c=a+b"
      ],
      "metadata": {
        "id": "gvWwm2kLvkSz"
      },
      "execution_count": 13,
      "outputs": []
    },
    {
      "cell_type": "code",
      "source": [
        "print('a='+str(a)+', b='+str(b)+', c='+str(c))"
      ],
      "metadata": {
        "colab": {
          "base_uri": "https://localhost:8080/"
        },
        "id": "qWIDmUVovsOn",
        "outputId": "98b11367-3c05-446b-8b18-287e2e07e560"
      },
      "execution_count": 21,
      "outputs": [
        {
          "output_type": "stream",
          "name": "stdout",
          "text": [
            "a=25, b=67, c=92\n"
          ]
        }
      ]
    },
    {
      "cell_type": "code",
      "source": [
        "print('a={}, b={}'.format(a,b))"
      ],
      "metadata": {
        "colab": {
          "base_uri": "https://localhost:8080/"
        },
        "id": "vSlOCTcRwHXE",
        "outputId": "8446b91c-2099-41d3-8ebb-1cc3399b6311"
      },
      "execution_count": 24,
      "outputs": [
        {
          "output_type": "stream",
          "name": "stdout",
          "text": [
            "a=25, b=67\n"
          ]
        }
      ]
    },
    {
      "cell_type": "markdown",
      "source": [
        "# Modules\n",
        "\n",
        "Aqui cargamos los modulos"
      ],
      "metadata": {
        "id": "fAzEdcBRw0BW"
      }
    },
    {
      "cell_type": "code",
      "source": [
        "import numpy as np\n",
        "import matplotlib.pyplot as plt"
      ],
      "metadata": {
        "id": "-ZPphK-Pw4f6"
      },
      "execution_count": 25,
      "outputs": []
    },
    {
      "cell_type": "markdown",
      "source": [
        "# Brownian Motion 1-D\n",
        "\n",
        "Generar una trayectoria de tipo Browniana de una dimensión haciendo uso del método Wiener."
      ],
      "metadata": {
        "id": "VuYKoZPoxfZt"
      }
    },
    {
      "cell_type": "code",
      "source": [
        "np.ones(shape=(10,5))"
      ],
      "metadata": {
        "id": "glp1av0xz9wR"
      },
      "execution_count": null,
      "outputs": []
    },
    {
      "cell_type": "code",
      "source": [
        "s_pos = 0\n",
        "n_steps = 10000\n",
        "\n",
        "#Brownian Walking vector.\n",
        "bw = np.ones(n_steps)*s_pos"
      ],
      "metadata": {
        "id": "6uaRy2vHxZiS"
      },
      "execution_count": 30,
      "outputs": []
    },
    {
      "cell_type": "code",
      "source": [
        "np.random.choice([1,-1], p=[0.2, 0.8])"
      ],
      "metadata": {
        "id": "B-14krUG1J0J"
      },
      "execution_count": null,
      "outputs": []
    },
    {
      "cell_type": "code",
      "source": [
        "#Generate trajectory\n",
        "for i in range(1,n_steps):\n",
        "  #Sampling from an uniform distribution\n",
        "  di = np.random.choice([1,-1])\n",
        "  #Winer process\n",
        "  bw[i] = bw[i-1]+(di/np.sqrt(n_steps))"
      ],
      "metadata": {
        "id": "vqz7oZ_gz5ct"
      },
      "execution_count": 31,
      "outputs": []
    },
    {
      "cell_type": "code",
      "source": [
        "np.linspace(0,1,10)"
      ],
      "metadata": {
        "id": "7B3MuQQC2Glf"
      },
      "execution_count": null,
      "outputs": []
    },
    {
      "cell_type": "code",
      "source": [
        "# times aux\n",
        "times = np.linspace(0, 1, n_steps)\n",
        "\n",
        "# Graficar con pyplot\n",
        "plt.plot(times, bw)\n",
        "plt.show"
      ],
      "metadata": {
        "colab": {
          "base_uri": "https://localhost:8080/",
          "height": 282
        },
        "id": "uK1LNjyB1f_U",
        "outputId": "b7a60d03-1c37-4b32-b564-c117c77f7496"
      },
      "execution_count": 35,
      "outputs": [
        {
          "output_type": "execute_result",
          "data": {
            "text/plain": [
              "<function matplotlib.pyplot.show(*args, **kw)>"
            ]
          },
          "metadata": {},
          "execution_count": 35
        },
        {
          "output_type": "display_data",
          "data": {
            "text/plain": [
              "<Figure size 432x288 with 1 Axes>"
            ],
            "image/png": "[encoded data removed]"
          },
          "metadata": {
            "needs_background": "light"
          }
        }
      ]
    },
    {
      "cell_type": "markdown",
      "source": [
        "## Implementación alternativa Brownian Motion\n",
        "\n",
        "Implementación más fácil de escalar."
      ],
      "metadata": {
        "id": "eFQpJrYz5GNv"
      }
    },
    {
      "cell_type": "code",
      "source": [
        "db = np.random.choice([1,-1], size=10000)*1/np.sqrt(10000)\n",
        "np.cumsum(db)"
      ],
      "metadata": {
        "colab": {
          "base_uri": "https://localhost:8080/"
        },
        "id": "mFqzBKTa6dGp",
        "outputId": "b560fc4d-428e-4013-ce1f-fc932954b0ef"
      },
      "execution_count": 43,
      "outputs": [
        {
          "output_type": "execute_result",
          "data": {
            "text/plain": [
              "array([0.01, 0.02, 0.03, ..., 1.04, 1.03, 1.02])"
            ]
          },
          "metadata": {},
          "execution_count": 43
        }
      ]
    },
    {
      "cell_type": "code",
      "source": [
        "# init parameters\n",
        "n = 10000\n",
        "\n",
        "# Warning\n",
        "if n < 30:\n",
        "  print('Warning! The number of steps is too small')\n",
        "\n",
        "# Vector with displacements\n",
        "dB = np.random.choice([1,-1], size=n-1)*1/np.sqrt(n)\n",
        "\n",
        "# Init Brownian Walker\n",
        "bw = np.zeros(shape=(1,))\n",
        "\n",
        "# Generate trajectory by accumulation displacement\n",
        "bw = np.concatenate((bw,np.cumsum(dB)))"
      ],
      "metadata": {
        "id": "9wB4-GHZ5NmT"
      },
      "execution_count": 57,
      "outputs": []
    },
    {
      "cell_type": "code",
      "source": [
        "#Plot Brownian trajectory\n",
        "times = np.linspace(0,1,n)\n",
        "\n",
        "plt.plot(times,bw)\n",
        "plt.show"
      ],
      "metadata": {
        "colab": {
          "base_uri": "https://localhost:8080/",
          "height": 282
        },
        "id": "ZqKF02f57uFU",
        "outputId": "a14fbec2-973a-4508-c81e-ac690bd286d7"
      },
      "execution_count": 58,
      "outputs": [
        {
          "output_type": "execute_result",
          "data": {
            "text/plain": [
              "<function matplotlib.pyplot.show(*args, **kw)>"
            ]
          },
          "metadata": {},
          "execution_count": 58
        },
        {
          "output_type": "display_data",
          "data": {
            "text/plain": [
              "<Figure size 432x288 with 1 Axes>"
            ],
            "image/png": "[encoded data removed]"
          },
          "metadata": {
            "needs_background": "light"
          }
        }
      ]
    }
  ]
}