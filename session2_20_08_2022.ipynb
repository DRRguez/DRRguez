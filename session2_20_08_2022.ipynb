{
  "nbformat": 4,
  "nbformat_minor": 0,
  "metadata": {
    "colab": {
      "name": "session2_20_08_2022.ipynb",
      "provenance": [],
      "collapsed_sections": [],
      "toc_visible": true,
      "authorship_tag": "ABX9TyM6Z6ft3suc7F+g53Cv9vo0",
      "include_colab_link": true
    },
    "kernelspec": {
      "name": "python3",
      "display_name": "Python 3"
    },
    "language_info": {
      "name": "python"
    }
  },
  "cells": [
    {
      "cell_type": "markdown",
      "metadata": {
        "id": "view-in-github",
        "colab_type": "text"
      },
      "source": [
        "<a href=\"https://colab.research.google.com/github/DRRguez/DRRguez/blob/main/session2_20_08_2022.ipynb\" target=\"_parent\"><img src=\"https://colab.research.google.com/assets/colab-badge.svg\" alt=\"Open In Colab\"/></a>"
      ]
    },
    {
      "cell_type": "markdown",
      "source": [
        "# Heading1\n",
        "\n",
        "## Heading2\n",
        "\n",
        "##### Heading5\n",
        "\n",
        "Este es un texto en negritas **bold**, este texto está \n",
        "en cursivas *italic*.\n",
        "\n",
        "Este es un salto de linea.\n",
        "\n",
        "Podemos agregar listas\n",
        "* elemento 1\n",
        "* elemento 2\n",
        "\n",
        "También podemos escribir formulas\n",
        "\n",
        "$$\n",
        "g(x)=\\int ^m _n x^2 dx\n",
        "$$\n"
      ],
      "metadata": {
        "id": "p-p4aRooqDKg"
      }
    },
    {
      "cell_type": "code",
      "source": [
        "print('Hello World!')"
      ],
      "metadata": {
        "colab": {
          "base_uri": "https://localhost:8080/"
        },
        "id": "mhQsDRyHsveO",
        "outputId": "d411b906-74a4-453b-899d-79a95221c3fd"
      },
      "execution_count": 1,
      "outputs": [
        {
          "output_type": "stream",
          "name": "stdout",
          "text": [
            "Hello World!\n"
          ]
        }
      ]
    },
    {
      "cell_type": "code",
      "source": [
        "!python --version"
      ],
      "metadata": {
        "colab": {
          "base_uri": "https://localhost:8080/"
        },
        "id": "lLIForPkuQTE",
        "outputId": "ee44ad7f-f228-4dae-94dd-0716b7504dec"
      },
      "execution_count": 5,
      "outputs": [
        {
          "output_type": "stream",
          "name": "stdout",
          "text": [
            "Python 3.7.13\n"
          ]
        }
      ]
    }
  ]
}